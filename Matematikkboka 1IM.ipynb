{
 "cells": [
  {
   "cell_type": "markdown",
   "id": "af44daa3-f013-4a55-a892-a730af741085",
   "metadata": {
    "jp-MarkdownHeadingCollapsed": true
   },
   "source": [
    "# $\\color{black}{\\text{Kapittel 1 - Grunnleggende regning}}$"
   ]
  },
  {
   "cell_type": "code",
   "execution_count": null,
   "id": "17ac8eda-643e-48c7-a0b6-c0ce47e27ecf",
   "metadata": {},
   "outputs": [],
   "source": []
  },
  {
   "cell_type": "code",
   "execution_count": null,
   "id": "367e8016-81f5-4747-bd6c-4cf16f3f870c",
   "metadata": {},
   "outputs": [],
   "source": []
  },
  {
   "cell_type": "code",
   "execution_count": null,
   "id": "1dcafd02-8152-4ae2-b920-4f036e86b7fa",
   "metadata": {},
   "outputs": [],
   "source": []
  },
  {
   "cell_type": "markdown",
   "id": "6c2bff4e-d34a-4f3e-8899-90028331e8d7",
   "metadata": {
    "jp-MarkdownHeadingCollapsed": true
   },
   "source": [
    "# $\\color{green}{\\text{Kapittel 2 - Personlig økonomi}}$"
   ]
  },
  {
   "cell_type": "code",
   "execution_count": null,
   "id": "4e7bd603-a637-441b-afd7-86130dae2fa0",
   "metadata": {},
   "outputs": [],
   "source": []
  },
  {
   "cell_type": "code",
   "execution_count": null,
   "id": "5ce97f76-1f35-47ae-9a32-4784c48db933",
   "metadata": {},
   "outputs": [],
   "source": []
  },
  {
   "cell_type": "code",
   "execution_count": null,
   "id": "95830db2-5a0f-47d1-8664-3c46b087c580",
   "metadata": {},
   "outputs": [],
   "source": []
  },
  {
   "cell_type": "markdown",
   "id": "9115020b-c8f7-4a8e-89e2-f89408181cac",
   "metadata": {
    "jp-MarkdownHeadingCollapsed": true
   },
   "source": [
    "# $\\color{blue}{\\text{Kapittel 3 - Formler og geometri}}$"
   ]
  },
  {
   "cell_type": "code",
   "execution_count": null,
   "id": "d067bdb8-ab58-41b3-8a49-54c40882be50",
   "metadata": {},
   "outputs": [],
   "source": []
  },
  {
   "cell_type": "code",
   "execution_count": null,
   "id": "577e4061-0e99-4a54-8acb-5acc4167537d",
   "metadata": {},
   "outputs": [],
   "source": []
  },
  {
   "cell_type": "code",
   "execution_count": null,
   "id": "f3648481-36a6-483e-af90-96bea1241fa0",
   "metadata": {},
   "outputs": [],
   "source": []
  },
  {
   "cell_type": "markdown",
   "id": "7ed278b4-1efc-4b57-ac33-bd7c26df5456",
   "metadata": {
    "jp-MarkdownHeadingCollapsed": true
   },
   "source": [
    "# $\\color{green}{\\text{Kapittel 4 - Statistikk}}$"
   ]
  },
  {
   "cell_type": "code",
   "execution_count": null,
   "id": "38a795bc-fb8a-4bff-8faf-6e8fa2490a57",
   "metadata": {},
   "outputs": [],
   "source": []
  },
  {
   "cell_type": "code",
   "execution_count": null,
   "id": "b89a4f64-1066-4143-bcdb-383ab2e4bf77",
   "metadata": {},
   "outputs": [],
   "source": []
  },
  {
   "cell_type": "code",
   "execution_count": null,
   "id": "f954fa48-f5ff-4ed9-b759-d0b40cd40d8a",
   "metadata": {},
   "outputs": [],
   "source": []
  },
  {
   "cell_type": "markdown",
   "id": "1199ea16-1315-49b5-ba5c-902e75a2dc7e",
   "metadata": {},
   "source": [
    "# $\\color{red}{\\text{Kapittel 5 - Yrkesøkonomi}}$"
   ]
  },
  {
   "cell_type": "code",
   "execution_count": null,
   "id": "c5cf655a-5ddc-410e-984d-98627bb70c1a",
   "metadata": {},
   "outputs": [],
   "source": [
    "# 5 Yrkesøkonomi: 5.2 Merverdiavgift\n",
    "# 5.2 Merverdiavgift beregning: Pris uten MVA = Pris med MVA/Vekstfaktoren \n",
    "def beregn_pris_uten_mva(pris_med_mva, vekstfaktor):\n",
    "    return pris_med_mva / vekstfaktor\n",
    "\n",
    "def beregn_pris_med_mva(pris_uten_mva, vekstfaktor):\n",
    "    return pris_uten_mva * vekstfaktor\n",
    "\n",
    "def beregn_vekstfaktor(pris_med_mva, pris_uten_mva):\n",
    "    return pris_med_mva / pris_uten_mva\n",
    "\n",
    "def velg_vekstfaktor():\n",
    "    print(\"Velg MVA-sats:\")\n",
    "    print(\"1. 25% (For de fleste varer eller tjenester)\")\n",
    "    print(\"2. 15% (For mat og drikke)\")\n",
    "    print(\"3. 12% (For persontransport, kinobilletter og utleie av rom)\")\n",
    "    print(\"4. 0% (Helsetjenester, undervisningstjenester og kulturelle tjenester)\")\n",
    "    \n",
    "    valg = input(\"Velg et alternativ (1/2/3/4): \").strip()\n",
    "    if valg == '1':\n",
    "        return 1.25\n",
    "    elif valg == '2':\n",
    "        return 1.15\n",
    "    elif valg == '3':\n",
    "        return 1.12\n",
    "    elif valg == '4':\n",
    "        return 1.00\n",
    "    else:\n",
    "        print(\"Ugyldig valg. Standard vekstfaktor 1.25 (25%) brukes.\")\n",
    "        return 1.25\n",
    "\n",
    "def hovedprogram():\n",
    "    while True:\n",
    "        print(\"\\nVelkommen til MVA kalkulator!\")\n",
    "        print(\"Trykk 'q' for å avslutte programmet.\\n\")\n",
    "       \n",
    "        print(\"Velg en beregning:\")\n",
    "        print(\"1. Pris uten MVA\")\n",
    "        print(\"2. Pris med MVA\")\n",
    "        print(\"3. Vekstfaktoren\")\n",
    "\n",
    "        choice = input(\"Velg et alternativ (1/2/3/q): \").strip().lower()\n",
    "        if choice == 'q':\n",
    "            print(\"Programmet avsluttes.\")\n",
    "            break\n",
    "\n",
    "        try:\n",
    "            if choice == '1':\n",
    "                pris_med_mva = float(input(\"\\nOppgi prisen med MVA: \"))\n",
    "                vekstfaktor = velg_vekstfaktor()\n",
    "                pris_uten_mva = beregn_pris_uten_mva(pris_med_mva, vekstfaktor)\n",
    "                resultat = f\"\\nPrisen uten MVA er {round(pris_uten_mva, 2)}\"\n",
    "            elif choice == '2':\n",
    "                pris_uten_mva = float(input(\"\\nOppgi prisen uten MVA: \"))\n",
    "                vekstfaktor = velg_vekstfaktor()\n",
    "                pris_med_mva = beregn_pris_med_mva(pris_uten_mva, vekstfaktor)\n",
    "                mva_belop = pris_med_mva - pris_uten_mva\n",
    "                resultat = (\n",
    "                    f\"\\nPrisen med MVA er {round(pris_med_mva, 2)}\"\n",
    "                    f\"\\nMerverdiavgiften utgjør {round(mva_belop, 2)}\"\n",
    "                )\n",
    "            elif choice == '3':\n",
    "                pris_med_mva = float(input(\"\\nOppgi prisen med MVA: \"))\n",
    "                pris_uten_mva = float(input(\"Oppgi prisen uten MVA: \"))\n",
    "                vekstfaktor = beregn_vekstfaktor(pris_med_mva, pris_uten_mva)\n",
    "                resultat = f\"\\nVekstfaktoren er {round(vekstfaktor, 2)}\"\n",
    "            else:\n",
    "                resultat = \"\\nUgyldig valg. Vennligst oppgi 1, 2 eller 3.\"\n",
    "        except ValueError:\n",
    "            resultat = \"\\nUgyldig inndata. Vennligst oppgi et tall.\"\n",
    "\n",
    "        print(resultat)\n",
    "\n",
    "if __name__ == \"__main__\":\n",
    "    hovedprogram()"
   ]
  },
  {
   "cell_type": "code",
   "execution_count": null,
   "id": "063f39b9-dc8d-49df-a1f1-794e2831874f",
   "metadata": {},
   "outputs": [],
   "source": []
  },
  {
   "cell_type": "code",
   "execution_count": null,
   "id": "480237df-573b-4d0b-9eff-d2e888f9822e",
   "metadata": {},
   "outputs": [],
   "source": []
  },
  {
   "cell_type": "code",
   "execution_count": null,
   "id": "c9410ed7-d09e-489b-8890-c7eb9073a793",
   "metadata": {},
   "outputs": [],
   "source": []
  },
  {
   "cell_type": "code",
   "execution_count": null,
   "id": "2778d7ee-e16d-4a24-b4f7-fef14285686b",
   "metadata": {},
   "outputs": [],
   "source": []
  },
  {
   "cell_type": "code",
   "execution_count": null,
   "id": "c83f8a58-5ca5-41a9-9a5a-f4cc85cab8b8",
   "metadata": {},
   "outputs": [],
   "source": []
  },
  {
   "cell_type": "code",
   "execution_count": null,
   "id": "e86dec95-2f51-4df3-9814-4d32f90f9ddb",
   "metadata": {},
   "outputs": [],
   "source": []
  },
  {
   "cell_type": "code",
   "execution_count": null,
   "id": "e5e0e95b-0fd8-46c3-9c19-adb5bb8ee351",
   "metadata": {},
   "outputs": [],
   "source": []
  }
 ],
 "metadata": {
  "kernelspec": {
   "display_name": "Python 3",
   "language": "python",
   "name": "python3"
  },
  "language_info": {
   "codemirror_mode": {
    "name": "ipython",
    "version": 3
   },
   "file_extension": ".py",
   "mimetype": "text/x-python",
   "name": "python",
   "nbconvert_exporter": "python",
   "pygments_lexer": "ipython3",
   "version": "3.13.5"
  }
 },
 "nbformat": 4,
 "nbformat_minor": 5
}
